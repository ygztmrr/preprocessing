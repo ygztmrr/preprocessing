{
 "cells": [
  {
   "cell_type": "code",
   "execution_count": 1,
   "metadata": {},
   "outputs": [],
   "source": [
    "import pandas as pd\n",
    "import numpy as np\n",
    "from sklearn.ensemble import RandomForestClassifier\n",
    "import matplotlib.pyplot as plt#visualization\n",
    "%matplotlib inline\n",
    "import seaborn as sns#visualization\n",
    "from sklearn.model_selection import train_test_split, GridSearchCV\n",
    "from sklearn.metrics import confusion_matrix, accuracy_score, classification_report\n",
    "import pickle"
   ]
  },
  {
   "cell_type": "code",
   "execution_count": 2,
   "metadata": {},
   "outputs": [
    {
     "data": {
      "text/html": [
       "<div>\n",
       "<style scoped>\n",
       "    .dataframe tbody tr th:only-of-type {\n",
       "        vertical-align: middle;\n",
       "    }\n",
       "\n",
       "    .dataframe tbody tr th {\n",
       "        vertical-align: top;\n",
       "    }\n",
       "\n",
       "    .dataframe thead th {\n",
       "        text-align: right;\n",
       "    }\n",
       "</style>\n",
       "<table border=\"1\" class=\"dataframe\">\n",
       "  <thead>\n",
       "    <tr style=\"text-align: right;\">\n",
       "      <th></th>\n",
       "      <th>date</th>\n",
       "      <th>cloudcover</th>\n",
       "      <th>events</th>\n",
       "      <th>max_dew_pointf</th>\n",
       "      <th>max_gust_speedmph</th>\n",
       "      <th>max_humidity</th>\n",
       "      <th>max_sea_level_pressurein</th>\n",
       "      <th>max_temperaturef</th>\n",
       "      <th>max_visibilitymiles</th>\n",
       "      <th>max_wind_speedmph</th>\n",
       "      <th>...</th>\n",
       "      <th>mean_visibilitymiles</th>\n",
       "      <th>mean_wind_speedmph</th>\n",
       "      <th>meandew_pointf</th>\n",
       "      <th>min_dewpointf</th>\n",
       "      <th>min_humidity</th>\n",
       "      <th>min_sea_level_pressurein</th>\n",
       "      <th>min_temperaturef</th>\n",
       "      <th>min_visibilitymiles</th>\n",
       "      <th>precipitationin</th>\n",
       "      <th>winddirdegrees</th>\n",
       "    </tr>\n",
       "  </thead>\n",
       "  <tbody>\n",
       "    <tr>\n",
       "      <td>0</td>\n",
       "      <td>2014-12-01</td>\n",
       "      <td>6</td>\n",
       "      <td>Rain</td>\n",
       "      <td>46</td>\n",
       "      <td>29.0</td>\n",
       "      <td>74</td>\n",
       "      <td>30.45</td>\n",
       "      <td>64</td>\n",
       "      <td>10</td>\n",
       "      <td>22</td>\n",
       "      <td>...</td>\n",
       "      <td>10</td>\n",
       "      <td>13</td>\n",
       "      <td>40</td>\n",
       "      <td>26</td>\n",
       "      <td>52</td>\n",
       "      <td>30.01</td>\n",
       "      <td>39</td>\n",
       "      <td>10</td>\n",
       "      <td>0.01</td>\n",
       "      <td>268</td>\n",
       "    </tr>\n",
       "    <tr>\n",
       "      <td>1</td>\n",
       "      <td>2014-12-10</td>\n",
       "      <td>8</td>\n",
       "      <td>Rain</td>\n",
       "      <td>45</td>\n",
       "      <td>29.0</td>\n",
       "      <td>100</td>\n",
       "      <td>29.58</td>\n",
       "      <td>48</td>\n",
       "      <td>10</td>\n",
       "      <td>23</td>\n",
       "      <td>...</td>\n",
       "      <td>3</td>\n",
       "      <td>13</td>\n",
       "      <td>39</td>\n",
       "      <td>37</td>\n",
       "      <td>89</td>\n",
       "      <td>29.43</td>\n",
       "      <td>38</td>\n",
       "      <td>1</td>\n",
       "      <td>0.28</td>\n",
       "      <td>357</td>\n",
       "    </tr>\n",
       "    <tr>\n",
       "      <td>2</td>\n",
       "      <td>2014-12-11</td>\n",
       "      <td>8</td>\n",
       "      <td>Rain-Snow</td>\n",
       "      <td>37</td>\n",
       "      <td>28.0</td>\n",
       "      <td>92</td>\n",
       "      <td>29.81</td>\n",
       "      <td>39</td>\n",
       "      <td>10</td>\n",
       "      <td>21</td>\n",
       "      <td>...</td>\n",
       "      <td>7</td>\n",
       "      <td>13</td>\n",
       "      <td>31</td>\n",
       "      <td>27</td>\n",
       "      <td>82</td>\n",
       "      <td>29.44</td>\n",
       "      <td>32</td>\n",
       "      <td>1</td>\n",
       "      <td>0.02</td>\n",
       "      <td>230</td>\n",
       "    </tr>\n",
       "    <tr>\n",
       "      <td>3</td>\n",
       "      <td>2014-12-12</td>\n",
       "      <td>7</td>\n",
       "      <td>Snow</td>\n",
       "      <td>28</td>\n",
       "      <td>21.0</td>\n",
       "      <td>85</td>\n",
       "      <td>29.88</td>\n",
       "      <td>39</td>\n",
       "      <td>10</td>\n",
       "      <td>16</td>\n",
       "      <td>...</td>\n",
       "      <td>10</td>\n",
       "      <td>11</td>\n",
       "      <td>27</td>\n",
       "      <td>25</td>\n",
       "      <td>64</td>\n",
       "      <td>29.81</td>\n",
       "      <td>31</td>\n",
       "      <td>7</td>\n",
       "      <td>0.00</td>\n",
       "      <td>286</td>\n",
       "    </tr>\n",
       "    <tr>\n",
       "      <td>4</td>\n",
       "      <td>2014-12-13</td>\n",
       "      <td>5</td>\n",
       "      <td>Snow</td>\n",
       "      <td>28</td>\n",
       "      <td>23.0</td>\n",
       "      <td>75</td>\n",
       "      <td>29.86</td>\n",
       "      <td>42</td>\n",
       "      <td>10</td>\n",
       "      <td>17</td>\n",
       "      <td>...</td>\n",
       "      <td>10</td>\n",
       "      <td>12</td>\n",
       "      <td>26</td>\n",
       "      <td>24</td>\n",
       "      <td>55</td>\n",
       "      <td>29.78</td>\n",
       "      <td>32</td>\n",
       "      <td>10</td>\n",
       "      <td>0.00</td>\n",
       "      <td>298</td>\n",
       "    </tr>\n",
       "  </tbody>\n",
       "</table>\n",
       "<p>5 rows × 23 columns</p>\n",
       "</div>"
      ],
      "text/plain": [
       "         date  cloudcover     events  max_dew_pointf  max_gust_speedmph  \\\n",
       "0  2014-12-01           6       Rain              46               29.0   \n",
       "1  2014-12-10           8       Rain              45               29.0   \n",
       "2  2014-12-11           8  Rain-Snow              37               28.0   \n",
       "3  2014-12-12           7       Snow              28               21.0   \n",
       "4  2014-12-13           5       Snow              28               23.0   \n",
       "\n",
       "   max_humidity  max_sea_level_pressurein  max_temperaturef  \\\n",
       "0            74                     30.45                64   \n",
       "1           100                     29.58                48   \n",
       "2            92                     29.81                39   \n",
       "3            85                     29.88                39   \n",
       "4            75                     29.86                42   \n",
       "\n",
       "   max_visibilitymiles  max_wind_speedmph  ...  mean_visibilitymiles  \\\n",
       "0                   10                 22  ...                    10   \n",
       "1                   10                 23  ...                     3   \n",
       "2                   10                 21  ...                     7   \n",
       "3                   10                 16  ...                    10   \n",
       "4                   10                 17  ...                    10   \n",
       "\n",
       "   mean_wind_speedmph  meandew_pointf  min_dewpointf  min_humidity  \\\n",
       "0                  13              40             26            52   \n",
       "1                  13              39             37            89   \n",
       "2                  13              31             27            82   \n",
       "3                  11              27             25            64   \n",
       "4                  12              26             24            55   \n",
       "\n",
       "   min_sea_level_pressurein  min_temperaturef  min_visibilitymiles  \\\n",
       "0                     30.01                39                   10   \n",
       "1                     29.43                38                    1   \n",
       "2                     29.44                32                    1   \n",
       "3                     29.81                31                    7   \n",
       "4                     29.78                32                   10   \n",
       "\n",
       "   precipitationin  winddirdegrees  \n",
       "0             0.01             268  \n",
       "1             0.28             357  \n",
       "2             0.02             230  \n",
       "3             0.00             286  \n",
       "4             0.00             298  \n",
       "\n",
       "[5 rows x 23 columns]"
      ]
     },
     "execution_count": 2,
     "metadata": {},
     "output_type": "execute_result"
    }
   ],
   "source": [
    "weather = pd.read_csv(\"weatherson.csv\")\n",
    "df=weather.copy()\n",
    "df.head()"
   ]
  },
  {
   "cell_type": "code",
   "execution_count": 3,
   "metadata": {},
   "outputs": [],
   "source": [
    "df.drop(\"date\",axis=1,inplace=True)"
   ]
  },
  {
   "cell_type": "code",
   "execution_count": 4,
   "metadata": {},
   "outputs": [
    {
     "data": {
      "text/html": [
       "<div>\n",
       "<style scoped>\n",
       "    .dataframe tbody tr th:only-of-type {\n",
       "        vertical-align: middle;\n",
       "    }\n",
       "\n",
       "    .dataframe tbody tr th {\n",
       "        vertical-align: top;\n",
       "    }\n",
       "\n",
       "    .dataframe thead th {\n",
       "        text-align: right;\n",
       "    }\n",
       "</style>\n",
       "<table border=\"1\" class=\"dataframe\">\n",
       "  <thead>\n",
       "    <tr style=\"text-align: right;\">\n",
       "      <th></th>\n",
       "      <th>cloudcover</th>\n",
       "      <th>events</th>\n",
       "      <th>max_dew_pointf</th>\n",
       "      <th>max_gust_speedmph</th>\n",
       "      <th>max_humidity</th>\n",
       "      <th>max_sea_level_pressurein</th>\n",
       "      <th>max_temperaturef</th>\n",
       "      <th>max_visibilitymiles</th>\n",
       "      <th>max_wind_speedmph</th>\n",
       "      <th>mean_humidity</th>\n",
       "      <th>...</th>\n",
       "      <th>mean_visibilitymiles</th>\n",
       "      <th>mean_wind_speedmph</th>\n",
       "      <th>meandew_pointf</th>\n",
       "      <th>min_dewpointf</th>\n",
       "      <th>min_humidity</th>\n",
       "      <th>min_sea_level_pressurein</th>\n",
       "      <th>min_temperaturef</th>\n",
       "      <th>min_visibilitymiles</th>\n",
       "      <th>precipitationin</th>\n",
       "      <th>winddirdegrees</th>\n",
       "    </tr>\n",
       "  </thead>\n",
       "  <tbody>\n",
       "    <tr>\n",
       "      <td>0</td>\n",
       "      <td>6</td>\n",
       "      <td>Rain</td>\n",
       "      <td>46</td>\n",
       "      <td>29.0</td>\n",
       "      <td>74</td>\n",
       "      <td>30.45</td>\n",
       "      <td>64</td>\n",
       "      <td>10</td>\n",
       "      <td>22</td>\n",
       "      <td>63</td>\n",
       "      <td>...</td>\n",
       "      <td>10</td>\n",
       "      <td>13</td>\n",
       "      <td>40</td>\n",
       "      <td>26</td>\n",
       "      <td>52</td>\n",
       "      <td>30.01</td>\n",
       "      <td>39</td>\n",
       "      <td>10</td>\n",
       "      <td>0.01</td>\n",
       "      <td>268</td>\n",
       "    </tr>\n",
       "    <tr>\n",
       "      <td>1</td>\n",
       "      <td>8</td>\n",
       "      <td>Rain</td>\n",
       "      <td>45</td>\n",
       "      <td>29.0</td>\n",
       "      <td>100</td>\n",
       "      <td>29.58</td>\n",
       "      <td>48</td>\n",
       "      <td>10</td>\n",
       "      <td>23</td>\n",
       "      <td>95</td>\n",
       "      <td>...</td>\n",
       "      <td>3</td>\n",
       "      <td>13</td>\n",
       "      <td>39</td>\n",
       "      <td>37</td>\n",
       "      <td>89</td>\n",
       "      <td>29.43</td>\n",
       "      <td>38</td>\n",
       "      <td>1</td>\n",
       "      <td>0.28</td>\n",
       "      <td>357</td>\n",
       "    </tr>\n",
       "    <tr>\n",
       "      <td>2</td>\n",
       "      <td>8</td>\n",
       "      <td>Rain-Snow</td>\n",
       "      <td>37</td>\n",
       "      <td>28.0</td>\n",
       "      <td>92</td>\n",
       "      <td>29.81</td>\n",
       "      <td>39</td>\n",
       "      <td>10</td>\n",
       "      <td>21</td>\n",
       "      <td>87</td>\n",
       "      <td>...</td>\n",
       "      <td>7</td>\n",
       "      <td>13</td>\n",
       "      <td>31</td>\n",
       "      <td>27</td>\n",
       "      <td>82</td>\n",
       "      <td>29.44</td>\n",
       "      <td>32</td>\n",
       "      <td>1</td>\n",
       "      <td>0.02</td>\n",
       "      <td>230</td>\n",
       "    </tr>\n",
       "    <tr>\n",
       "      <td>3</td>\n",
       "      <td>7</td>\n",
       "      <td>Snow</td>\n",
       "      <td>28</td>\n",
       "      <td>21.0</td>\n",
       "      <td>85</td>\n",
       "      <td>29.88</td>\n",
       "      <td>39</td>\n",
       "      <td>10</td>\n",
       "      <td>16</td>\n",
       "      <td>75</td>\n",
       "      <td>...</td>\n",
       "      <td>10</td>\n",
       "      <td>11</td>\n",
       "      <td>27</td>\n",
       "      <td>25</td>\n",
       "      <td>64</td>\n",
       "      <td>29.81</td>\n",
       "      <td>31</td>\n",
       "      <td>7</td>\n",
       "      <td>0.00</td>\n",
       "      <td>286</td>\n",
       "    </tr>\n",
       "    <tr>\n",
       "      <td>4</td>\n",
       "      <td>5</td>\n",
       "      <td>Snow</td>\n",
       "      <td>28</td>\n",
       "      <td>23.0</td>\n",
       "      <td>75</td>\n",
       "      <td>29.86</td>\n",
       "      <td>42</td>\n",
       "      <td>10</td>\n",
       "      <td>17</td>\n",
       "      <td>65</td>\n",
       "      <td>...</td>\n",
       "      <td>10</td>\n",
       "      <td>12</td>\n",
       "      <td>26</td>\n",
       "      <td>24</td>\n",
       "      <td>55</td>\n",
       "      <td>29.78</td>\n",
       "      <td>32</td>\n",
       "      <td>10</td>\n",
       "      <td>0.00</td>\n",
       "      <td>298</td>\n",
       "    </tr>\n",
       "  </tbody>\n",
       "</table>\n",
       "<p>5 rows × 22 columns</p>\n",
       "</div>"
      ],
      "text/plain": [
       "   cloudcover     events  max_dew_pointf  max_gust_speedmph  max_humidity  \\\n",
       "0           6       Rain              46               29.0            74   \n",
       "1           8       Rain              45               29.0           100   \n",
       "2           8  Rain-Snow              37               28.0            92   \n",
       "3           7       Snow              28               21.0            85   \n",
       "4           5       Snow              28               23.0            75   \n",
       "\n",
       "   max_sea_level_pressurein  max_temperaturef  max_visibilitymiles  \\\n",
       "0                     30.45                64                   10   \n",
       "1                     29.58                48                   10   \n",
       "2                     29.81                39                   10   \n",
       "3                     29.88                39                   10   \n",
       "4                     29.86                42                   10   \n",
       "\n",
       "   max_wind_speedmph  mean_humidity  ...  mean_visibilitymiles  \\\n",
       "0                 22             63  ...                    10   \n",
       "1                 23             95  ...                     3   \n",
       "2                 21             87  ...                     7   \n",
       "3                 16             75  ...                    10   \n",
       "4                 17             65  ...                    10   \n",
       "\n",
       "   mean_wind_speedmph  meandew_pointf  min_dewpointf  min_humidity  \\\n",
       "0                  13              40             26            52   \n",
       "1                  13              39             37            89   \n",
       "2                  13              31             27            82   \n",
       "3                  11              27             25            64   \n",
       "4                  12              26             24            55   \n",
       "\n",
       "   min_sea_level_pressurein  min_temperaturef  min_visibilitymiles  \\\n",
       "0                     30.01                39                   10   \n",
       "1                     29.43                38                    1   \n",
       "2                     29.44                32                    1   \n",
       "3                     29.81                31                    7   \n",
       "4                     29.78                32                   10   \n",
       "\n",
       "   precipitationin  winddirdegrees  \n",
       "0             0.01             268  \n",
       "1             0.28             357  \n",
       "2             0.02             230  \n",
       "3             0.00             286  \n",
       "4             0.00             298  \n",
       "\n",
       "[5 rows x 22 columns]"
      ]
     },
     "execution_count": 4,
     "metadata": {},
     "output_type": "execute_result"
    }
   ],
   "source": [
    "df.head()"
   ]
  },
  {
   "cell_type": "code",
   "execution_count": 5,
   "metadata": {},
   "outputs": [
    {
     "data": {
      "text/plain": [
       "cloudcover                     int64\n",
       "events                        object\n",
       "max_dew_pointf                 int64\n",
       "max_gust_speedmph            float64\n",
       "max_humidity                   int64\n",
       "max_sea_level_pressurein     float64\n",
       "max_temperaturef               int64\n",
       "max_visibilitymiles            int64\n",
       "max_wind_speedmph              int64\n",
       "mean_humidity                  int64\n",
       "mean_sea_level_pressurein    float64\n",
       "mean_temperaturef              int64\n",
       "mean_visibilitymiles           int64\n",
       "mean_wind_speedmph             int64\n",
       "meandew_pointf                 int64\n",
       "min_dewpointf                  int64\n",
       "min_humidity                   int64\n",
       "min_sea_level_pressurein     float64\n",
       "min_temperaturef               int64\n",
       "min_visibilitymiles            int64\n",
       "precipitationin              float64\n",
       "winddirdegrees                 int64\n",
       "dtype: object"
      ]
     },
     "execution_count": 5,
     "metadata": {},
     "output_type": "execute_result"
    }
   ],
   "source": [
    "df.dtypes"
   ]
  },
  {
   "cell_type": "markdown",
   "metadata": {},
   "source": [
    "## görselleştirme"
   ]
  },
  {
   "cell_type": "code",
   "execution_count": 6,
   "metadata": {},
   "outputs": [
    {
     "data": {
      "image/png": "[encoded data removed]",
      "text/plain": [
       "<Figure size 432x288 with 1 Axes>"
      ]
     },
     "metadata": {
      "needs_background": "light"
     },
     "output_type": "display_data"
    }
   ],
   "source": [
    "(df[\"events\"].value_counts()\n",
    ".plot.barh()\n",
    ".set_title(\"bar grafiği\"));"
   ]
  },
  {
   "cell_type": "code",
   "execution_count": 7,
   "metadata": {},
   "outputs": [
    {
     "data": {
      "image/png": "[encoded data removed]",
      "text/plain": [
       "<Figure size 360x360 with 1 Axes>"
      ]
     },
     "metadata": {
      "needs_background": "light"
     },
     "output_type": "display_data"
    }
   ],
   "source": [
    "sns.catplot(x=\"events\", y=\"cloudcover\",data=df);"
   ]
  },
  {
   "cell_type": "code",
   "execution_count": 8,
   "metadata": {},
   "outputs": [
    {
     "data": {
      "image/png": "[encoded data removed]",
      "text/plain": [
       "<Figure size 422.75x360 with 1 Axes>"
      ]
     },
     "metadata": {
      "needs_background": "light"
     },
     "output_type": "display_data"
    }
   ],
   "source": [
    "sns.catplot(x=\"events\", y=\"max_humidity\", hue=\"cloudcover\",data=df);"
   ]
  },
  {
   "cell_type": "code",
   "execution_count": 9,
   "metadata": {},
   "outputs": [
    {
     "data": {
      "image/png": "[encoded data removed]",
      "text/plain": [
       "<Figure size 432x288 with 1 Axes>"
      ]
     },
     "metadata": {
      "needs_background": "light"
     },
     "output_type": "display_data"
    }
   ],
   "source": [
    "(df[\"winddirdegrees\"]\n",
    ".plot\n",
    ".hist(bins=100)\n",
    ".set_title(\"histogram grafiği\")); "
   ]
  },
  {
   "cell_type": "code",
   "execution_count": 10,
   "metadata": {},
   "outputs": [
    {
     "data": {
      "image/png": "[encoded data removed]",
      "text/plain": [
       "<Figure size 432x288 with 1 Axes>"
      ]
     },
     "metadata": {
      "needs_background": "light"
     },
     "output_type": "display_data"
    }
   ],
   "source": [
    "sns.kdeplot(df.winddirdegrees, shade= True); "
   ]
  },
  {
   "cell_type": "code",
   "execution_count": 11,
   "metadata": {},
   "outputs": [],
   "source": [
    "cleanup_nums = {\"events\": {\"Rain\": 1, \"Snow\": 2, \"Rain-Snow\": 3, \"Fog-Rain\": 4,\"Fog-Snow\": 5, \"Fog\": 6, \"Rain-Thunderstorm\":7,\"Fog-Rain-Snow\":8 ,\n",
    "                            \"Fog-Rain-Hail-Thunderstorm\":9, \"Fog-Rain-Thunderstorm\":10 , \"Thunderstorm\":11 }}"
   ]
  },
  {
   "cell_type": "code",
   "execution_count": 12,
   "metadata": {},
   "outputs": [
    {
     "data": {
      "text/html": [
       "<div>\n",
       "<style scoped>\n",
       "    .dataframe tbody tr th:only-of-type {\n",
       "        vertical-align: middle;\n",
       "    }\n",
       "\n",
       "    .dataframe tbody tr th {\n",
       "        vertical-align: top;\n",
       "    }\n",
       "\n",
       "    .dataframe thead th {\n",
       "        text-align: right;\n",
       "    }\n",
       "</style>\n",
       "<table border=\"1\" class=\"dataframe\">\n",
       "  <thead>\n",
       "    <tr style=\"text-align: right;\">\n",
       "      <th></th>\n",
       "      <th>cloudcover</th>\n",
       "      <th>events</th>\n",
       "      <th>max_dew_pointf</th>\n",
       "      <th>max_gust_speedmph</th>\n",
       "      <th>max_humidity</th>\n",
       "      <th>max_sea_level_pressurein</th>\n",
       "      <th>max_temperaturef</th>\n",
       "      <th>max_visibilitymiles</th>\n",
       "      <th>max_wind_speedmph</th>\n",
       "      <th>mean_humidity</th>\n",
       "      <th>...</th>\n",
       "      <th>mean_visibilitymiles</th>\n",
       "      <th>mean_wind_speedmph</th>\n",
       "      <th>meandew_pointf</th>\n",
       "      <th>min_dewpointf</th>\n",
       "      <th>min_humidity</th>\n",
       "      <th>min_sea_level_pressurein</th>\n",
       "      <th>min_temperaturef</th>\n",
       "      <th>min_visibilitymiles</th>\n",
       "      <th>precipitationin</th>\n",
       "      <th>winddirdegrees</th>\n",
       "    </tr>\n",
       "  </thead>\n",
       "  <tbody>\n",
       "    <tr>\n",
       "      <td>0</td>\n",
       "      <td>6</td>\n",
       "      <td>1</td>\n",
       "      <td>46</td>\n",
       "      <td>29.0</td>\n",
       "      <td>74</td>\n",
       "      <td>30.45</td>\n",
       "      <td>64</td>\n",
       "      <td>10</td>\n",
       "      <td>22</td>\n",
       "      <td>63</td>\n",
       "      <td>...</td>\n",
       "      <td>10</td>\n",
       "      <td>13</td>\n",
       "      <td>40</td>\n",
       "      <td>26</td>\n",
       "      <td>52</td>\n",
       "      <td>30.01</td>\n",
       "      <td>39</td>\n",
       "      <td>10</td>\n",
       "      <td>0.01</td>\n",
       "      <td>268</td>\n",
       "    </tr>\n",
       "    <tr>\n",
       "      <td>1</td>\n",
       "      <td>8</td>\n",
       "      <td>1</td>\n",
       "      <td>45</td>\n",
       "      <td>29.0</td>\n",
       "      <td>100</td>\n",
       "      <td>29.58</td>\n",
       "      <td>48</td>\n",
       "      <td>10</td>\n",
       "      <td>23</td>\n",
       "      <td>95</td>\n",
       "      <td>...</td>\n",
       "      <td>3</td>\n",
       "      <td>13</td>\n",
       "      <td>39</td>\n",
       "      <td>37</td>\n",
       "      <td>89</td>\n",
       "      <td>29.43</td>\n",
       "      <td>38</td>\n",
       "      <td>1</td>\n",
       "      <td>0.28</td>\n",
       "      <td>357</td>\n",
       "    </tr>\n",
       "    <tr>\n",
       "      <td>2</td>\n",
       "      <td>8</td>\n",
       "      <td>3</td>\n",
       "      <td>37</td>\n",
       "      <td>28.0</td>\n",
       "      <td>92</td>\n",
       "      <td>29.81</td>\n",
       "      <td>39</td>\n",
       "      <td>10</td>\n",
       "      <td>21</td>\n",
       "      <td>87</td>\n",
       "      <td>...</td>\n",
       "      <td>7</td>\n",
       "      <td>13</td>\n",
       "      <td>31</td>\n",
       "      <td>27</td>\n",
       "      <td>82</td>\n",
       "      <td>29.44</td>\n",
       "      <td>32</td>\n",
       "      <td>1</td>\n",
       "      <td>0.02</td>\n",
       "      <td>230</td>\n",
       "    </tr>\n",
       "    <tr>\n",
       "      <td>3</td>\n",
       "      <td>7</td>\n",
       "      <td>2</td>\n",
       "      <td>28</td>\n",
       "      <td>21.0</td>\n",
       "      <td>85</td>\n",
       "      <td>29.88</td>\n",
       "      <td>39</td>\n",
       "      <td>10</td>\n",
       "      <td>16</td>\n",
       "      <td>75</td>\n",
       "      <td>...</td>\n",
       "      <td>10</td>\n",
       "      <td>11</td>\n",
       "      <td>27</td>\n",
       "      <td>25</td>\n",
       "      <td>64</td>\n",
       "      <td>29.81</td>\n",
       "      <td>31</td>\n",
       "      <td>7</td>\n",
       "      <td>0.00</td>\n",
       "      <td>286</td>\n",
       "    </tr>\n",
       "    <tr>\n",
       "      <td>4</td>\n",
       "      <td>5</td>\n",
       "      <td>2</td>\n",
       "      <td>28</td>\n",
       "      <td>23.0</td>\n",
       "      <td>75</td>\n",
       "      <td>29.86</td>\n",
       "      <td>42</td>\n",
       "      <td>10</td>\n",
       "      <td>17</td>\n",
       "      <td>65</td>\n",
       "      <td>...</td>\n",
       "      <td>10</td>\n",
       "      <td>12</td>\n",
       "      <td>26</td>\n",
       "      <td>24</td>\n",
       "      <td>55</td>\n",
       "      <td>29.78</td>\n",
       "      <td>32</td>\n",
       "      <td>10</td>\n",
       "      <td>0.00</td>\n",
       "      <td>298</td>\n",
       "    </tr>\n",
       "  </tbody>\n",
       "</table>\n",
       "<p>5 rows × 22 columns</p>\n",
       "</div>"
      ],
      "text/plain": [
       "   cloudcover  events  max_dew_pointf  max_gust_speedmph  max_humidity  \\\n",
       "0           6       1              46               29.0            74   \n",
       "1           8       1              45               29.0           100   \n",
       "2           8       3              37               28.0            92   \n",
       "3           7       2              28               21.0            85   \n",
       "4           5       2              28               23.0            75   \n",
       "\n",
       "   max_sea_level_pressurein  max_temperaturef  max_visibilitymiles  \\\n",
       "0                     30.45                64                   10   \n",
       "1                     29.58                48                   10   \n",
       "2                     29.81                39                   10   \n",
       "3                     29.88                39                   10   \n",
       "4                     29.86                42                   10   \n",
       "\n",
       "   max_wind_speedmph  mean_humidity  ...  mean_visibilitymiles  \\\n",
       "0                 22             63  ...                    10   \n",
       "1                 23             95  ...                     3   \n",
       "2                 21             87  ...                     7   \n",
       "3                 16             75  ...                    10   \n",
       "4                 17             65  ...                    10   \n",
       "\n",
       "   mean_wind_speedmph  meandew_pointf  min_dewpointf  min_humidity  \\\n",
       "0                  13              40             26            52   \n",
       "1                  13              39             37            89   \n",
       "2                  13              31             27            82   \n",
       "3                  11              27             25            64   \n",
       "4                  12              26             24            55   \n",
       "\n",
       "   min_sea_level_pressurein  min_temperaturef  min_visibilitymiles  \\\n",
       "0                     30.01                39                   10   \n",
       "1                     29.43                38                    1   \n",
       "2                     29.44                32                    1   \n",
       "3                     29.81                31                    7   \n",
       "4                     29.78                32                   10   \n",
       "\n",
       "   precipitationin  winddirdegrees  \n",
       "0             0.01             268  \n",
       "1             0.28             357  \n",
       "2             0.02             230  \n",
       "3             0.00             286  \n",
       "4             0.00             298  \n",
       "\n",
       "[5 rows x 22 columns]"
      ]
     },
     "execution_count": 12,
     "metadata": {},
     "output_type": "execute_result"
    }
   ],
   "source": [
    "df.replace(cleanup_nums, inplace=True)\n",
    "df.head()"
   ]
  },
  {
   "cell_type": "code",
   "execution_count": 13,
   "metadata": {},
   "outputs": [
    {
     "data": {
      "image/png": "[encoded data removed]",
      "text/plain": [
       "<Figure size 422.75x360 with 1 Axes>"
      ]
     },
     "metadata": {
      "needs_background": "light"
     },
     "output_type": "display_data"
    }
   ],
   "source": [
    "sns.catplot(x=\"events\",y=\"max_sea_level_pressurein\",hue=\"cloudcover\", kind=\"point\", data=df);"
   ]
  },
  {
   "cell_type": "code",
   "execution_count": 14,
   "metadata": {},
   "outputs": [
    {
     "data": {
      "image/png": "[encoded data removed]",
      "text/plain": [
       "<Figure size 432x288 with 1 Axes>"
      ]
     },
     "metadata": {
      "needs_background": "light"
     },
     "output_type": "display_data"
    }
   ],
   "source": [
    "sns.boxplot(x=\"events\",y=\"cloudcover\", data=df);"
   ]
  },
  {
   "cell_type": "code",
   "execution_count": 15,
   "metadata": {},
   "outputs": [
    {
     "data": {
      "image/png": "[encoded data removed]",
      "text/plain": [
       "<Figure size 432x288 with 1 Axes>"
      ]
     },
     "metadata": {
      "needs_background": "light"
     },
     "output_type": "display_data"
    }
   ],
   "source": [
    "sns.boxplot(x=\"cloudcover\",y=\"precipitationin\", data=df); #bulutluluk vs yağış"
   ]
  },
  {
   "cell_type": "code",
   "execution_count": 16,
   "metadata": {},
   "outputs": [
    {
     "data": {
      "image/png": "[encoded data removed]",
      "text/plain": [
       "<Figure size 432x288 with 1 Axes>"
      ]
     },
     "metadata": {
      "needs_background": "light"
     },
     "output_type": "display_data"
    }
   ],
   "source": [
    "sns.boxplot(x=\"events\",y=\"precipitationin\", data=df);"
   ]
  },
  {
   "cell_type": "markdown",
   "metadata": {},
   "source": [
    "# machine learning"
   ]
  },
  {
   "cell_type": "code",
   "execution_count": 17,
   "metadata": {},
   "outputs": [],
   "source": [
    "from sklearn import linear_model\n",
    "import numpy as np\n",
    "import pandas as pd \n",
    "import statsmodels.api as sm\n",
    "import statsmodels.formula.api as smf\n",
    "import seaborn as sns\n",
    "from sklearn.preprocessing import scale \n",
    "from sklearn.model_selection import train_test_split, GridSearchCV, cross_val_score\n",
    "from sklearn.metrics import confusion_matrix, accuracy_score, classification_report\n",
    "from sklearn.metrics import roc_auc_score,roc_curve\n",
    "import statsmodels.formula.api as smf\n",
    "import matplotlib.pyplot as plt\n",
    "from sklearn.neighbors import KNeighborsClassifier\n",
    "from sklearn.discriminant_analysis import LinearDiscriminantAnalysis\n",
    "from sklearn.linear_model import LogisticRegression\n",
    "from sklearn.svm import SVC, LinearSVC\n",
    "from sklearn.naive_bayes import GaussianNB\n",
    "from sklearn import tree\n",
    "from sklearn.ensemble import RandomForestClassifier\n",
    "from sklearn.ensemble import GradientBoostingClassifier\n",
    "from xgboost import XGBClassifier\n",
    "from lightgbm import LGBMClassifier\n",
    "from sklearn.linear_model import Perceptron\n",
    "from sklearn.tree import DecisionTreeClassifier\n",
    "from sklearn.linear_model import SGDClassifier\n",
    "\n",
    "from warnings import filterwarnings\n",
    "filterwarnings('ignore')"
   ]
  },
  {
   "cell_type": "code",
   "execution_count": 18,
   "metadata": {},
   "outputs": [
    {
     "data": {
      "image/png": "[encoded data removed]",
      "text/plain": [
       "<Figure size 432x288 with 1 Axes>"
      ]
     },
     "metadata": {
      "needs_background": "light"
     },
     "output_type": "display_data"
    }
   ],
   "source": [
    "df[\"events\"].value_counts().plot.barh();"
   ]
  },
  {
   "cell_type": "code",
   "execution_count": 19,
   "metadata": {},
   "outputs": [],
   "source": [
    "y=df[\"events\"]\n",
    "X= df.drop([\"events\"], axis=1)"
   ]
  },
  {
   "cell_type": "markdown",
   "metadata": {},
   "source": [
    "## log reg"
   ]
  },
  {
   "cell_type": "code",
   "execution_count": 20,
   "metadata": {},
   "outputs": [
    {
     "data": {
      "text/plain": [
       "LogisticRegression(C=1.0, class_weight=None, dual=False, fit_intercept=True,\n",
       "                   intercept_scaling=1, l1_ratio=None, max_iter=100,\n",
       "                   multi_class='warn', n_jobs=None, penalty='l2',\n",
       "                   random_state=None, solver='liblinear', tol=0.0001, verbose=0,\n",
       "                   warm_start=False)"
      ]
     },
     "execution_count": 20,
     "metadata": {},
     "output_type": "execute_result"
    }
   ],
   "source": [
    "loj= LogisticRegression(solver=\"liblinear\")\n",
    "loj_model=loj.fit(X,y)\n",
    "loj_model"
   ]
  },
  {
   "cell_type": "code",
   "execution_count": 21,
   "metadata": {},
   "outputs": [
    {
     "data": {
      "text/plain": [
       "array([-0.10739205,  0.04299518, -0.02806252,  0.01548495,  0.00501072,\n",
       "       -0.01331328, -0.021212  ,  0.02828108, -0.00256064, -0.01050364,\n",
       "       -0.0145311 ])"
      ]
     },
     "execution_count": 21,
     "metadata": {},
     "output_type": "execute_result"
    }
   ],
   "source": [
    "loj_model.intercept_"
   ]
  },
  {
   "cell_type": "code",
   "execution_count": 22,
   "metadata": {},
   "outputs": [
    {
     "data": {
      "text/plain": [
       "array([[ 0.14076521,  0.06672899, -0.12969927, -0.36513848,  0.48806503,\n",
       "         0.00692799,  0.05139861,  0.1186752 ,  0.69700361, -0.07029998,\n",
       "        -0.05443573,  0.08069181,  0.07821807,  0.00572207, -0.05692271,\n",
       "        -0.32592334, -0.5969931 ,  0.10062701,  0.25607641,  0.32117071,\n",
       "        -0.00266218],\n",
       "       [ 0.294237  , -0.20963451,  0.06310448,  0.19549042, -0.4757464 ,\n",
       "         0.17932784,  0.12490395, -0.07821629, -0.30933198,  0.0254814 ,\n",
       "        -0.09131443,  0.32990565, -0.22381575, -0.07237681,  0.08879322,\n",
       "         0.17047188,  0.33621768, -0.09722099, -0.16822179, -0.75175257,\n",
       "         0.00401827],\n",
       "       [ 0.1267679 ,  0.04191464,  0.01961629,  0.20094312, -0.27288679,\n",
       "        -0.37859734,  0.25904869,  0.11395088, -0.40401479, -0.113077  ,\n",
       "         0.73344773,  0.24134456, -0.0539349 , -0.16717818, -0.10422293,\n",
       "         0.24229454,  0.0461119 , -0.19071164, -0.24950165, -0.01299721,\n",
       "        -0.00665876],\n",
       "       [-0.38862963,  0.19664719, -0.03367687,  0.27937407,  0.67932812,\n",
       "         0.07215184, -0.23538829, -0.14107281, -0.60221893, -0.03995168,\n",
       "         0.02861681, -0.21907182,  0.13767914, -0.17915831, -0.09428633,\n",
       "         0.34715726, -0.65068145,  0.01437207, -0.29438928,  0.71105757,\n",
       "         0.00366569],\n",
       "       [-0.00696202, -0.11135123,  0.10399163,  0.06653127,  0.04115055,\n",
       "        -0.20833353,  0.1911178 , -0.03171902,  0.12018745, -0.14369557,\n",
       "         0.20806222, -0.65525767, -0.04741672,  0.01557924, -0.08130334,\n",
       "        -0.02044245, -0.29228439, -0.0843799 ,  0.53998246, -0.13392202,\n",
       "         0.00506882],\n",
       "       [ 0.0619166 ,  0.08709534, -0.07366969, -0.26368486,  0.26500631,\n",
       "         0.02106923,  0.15118182, -0.15555549,  0.25741027,  0.25392677,\n",
       "        -0.32301139,  0.02859396,  0.26642816,  0.08039823,  0.46302618,\n",
       "        -0.27126612,  0.22210177, -0.28563153, -0.32022797, -0.81566755,\n",
       "        -0.00647615],\n",
       "       [-0.19431993, -0.09424019, -0.07713756,  0.13937463, -0.3972    ,\n",
       "         0.44670943, -0.21212121, -0.00164332, -0.23827872, -0.36430362,\n",
       "        -0.0809431 ,  0.78954761, -0.12069928, -0.45121882,  0.26513033,\n",
       "         0.18204151, -0.30380904,  0.23991989, -0.54320515,  0.14871481,\n",
       "        -0.00839871],\n",
       "       [ 0.23658197, -0.30565934, -0.09423443, -0.10156158, -0.0286286 ,\n",
       "         0.02323389,  0.52411484,  0.15603068,  0.24252494, -0.11860177,\n",
       "         0.06724821, -0.67698192, -0.20641945,  0.46087407, -0.23261502,\n",
       "        -0.13107506, -0.18783478, -0.09607338,  0.47627379, -0.08925233,\n",
       "         0.01659796],\n",
       "       [-0.10885289, -0.12581517,  0.18800473,  0.05033535, -0.22886067,\n",
       "        -0.4231045 , -0.02550854,  0.24314226, -0.07499419, -0.10575669,\n",
       "         0.32117775,  0.11259593, -0.70869691, -0.28156789,  0.42011148,\n",
       "        -0.08573615, -0.02937752,  0.31414572,  0.40187561,  0.03818305,\n",
       "        -0.01507945],\n",
       "       [ 0.28868337, -0.03344827,  0.11171124, -0.01532201, -0.09509922,\n",
       "        -0.05353556,  0.17698512,  0.05163519,  0.19280308, -0.10893409,\n",
       "        -0.38926605, -0.61732419, -0.19308683,  0.15689676,  0.00382117,\n",
       "        -0.2347833 ,  0.08819287,  0.34094998,  0.40402716,  0.06035859,\n",
       "        -0.00594231],\n",
       "       [ 0.08665171, -0.76219146,  0.32692897,  0.16461773, -0.34920385,\n",
       "        -0.19986535, -0.1453074 , -0.36807324,  0.05315363, -0.3428629 ,\n",
       "         0.13417917,  0.07283103,  0.13427148, -0.0557049 ,  1.08547248,\n",
       "        -0.6558781 , -0.34681124,  0.36920981, -0.08817097, -0.02223721,\n",
       "         0.03299376]])"
      ]
     },
     "execution_count": 22,
     "metadata": {},
     "output_type": "execute_result"
    }
   ],
   "source": [
    "loj_model.coef_ "
   ]
  },
  {
   "cell_type": "code",
   "execution_count": 23,
   "metadata": {},
   "outputs": [],
   "source": [
    "y_pred= loj_model.predict(X)"
   ]
  },
  {
   "cell_type": "code",
   "execution_count": 24,
   "metadata": {},
   "outputs": [
    {
     "data": {
      "text/plain": [
       "array([[231,   3,   0,   0,   0,   1,   1,   0,   0,   0,   0],\n",
       "       [ 12,  37,   0,   0,   1,   0,   0,   0,   0,   0,   0],\n",
       "       [  6,   4,   4,   0,   0,   0,   0,   0,   0,   0,   0],\n",
       "       [ 12,   1,   0,   0,   0,   0,   0,   0,   0,   0,   0],\n",
       "       [  1,   5,   1,   0,   4,   0,   0,   0,   0,   0,   0],\n",
       "       [  9,   0,   0,   0,   0,   1,   0,   0,   0,   0,   0],\n",
       "       [  8,   0,   0,   0,   0,   0,   1,   0,   0,   0,   0],\n",
       "       [  4,   2,   0,   0,   0,   0,   0,   2,   0,   0,   0],\n",
       "       [  6,   0,   0,   0,   0,   0,   0,   0,   1,   0,   0],\n",
       "       [  3,   0,   0,   0,   0,   0,   0,   0,   0,   2,   0],\n",
       "       [  3,   0,   0,   0,   0,   0,   0,   0,   0,   0,   0]],\n",
       "      dtype=int64)"
      ]
     },
     "execution_count": 24,
     "metadata": {},
     "output_type": "execute_result"
    }
   ],
   "source": [
    "confusion_matrix(y,y_pred)  #gerçekte 1 iken 1 olanlar, gerçekte 0 iken 1 olanlar ..."
   ]
  },
  {
   "cell_type": "code",
   "execution_count": 25,
   "metadata": {},
   "outputs": [
    {
     "data": {
      "text/plain": [
       "0.773224043715847"
      ]
     },
     "execution_count": 25,
     "metadata": {},
     "output_type": "execute_result"
    }
   ],
   "source": [
    "accuracy_score(y,y_pred)"
   ]
  },
  {
   "cell_type": "code",
   "execution_count": 26,
   "metadata": {},
   "outputs": [
    {
     "name": "stdout",
     "output_type": "stream",
     "text": [
      "              precision    recall  f1-score   support\n",
      "\n",
      "           1       0.78      0.98      0.87       236\n",
      "           2       0.71      0.74      0.73        50\n",
      "           3       0.80      0.29      0.42        14\n",
      "           4       0.00      0.00      0.00        13\n",
      "           5       0.80      0.36      0.50        11\n",
      "           6       0.50      0.10      0.17        10\n",
      "           7       0.50      0.11      0.18         9\n",
      "           8       1.00      0.25      0.40         8\n",
      "           9       1.00      0.14      0.25         7\n",
      "          10       1.00      0.40      0.57         5\n",
      "          11       0.00      0.00      0.00         3\n",
      "\n",
      "    accuracy                           0.77       366\n",
      "   macro avg       0.64      0.31      0.37       366\n",
      "weighted avg       0.74      0.77      0.72       366\n",
      "\n"
     ]
    }
   ],
   "source": [
    "print(classification_report(y,y_pred))"
   ]
  },
  {
   "cell_type": "code",
   "execution_count": 27,
   "metadata": {},
   "outputs": [
    {
     "data": {
      "text/plain": [
       "array([1, 1, 1, 1, 1, 1, 1, 1, 1, 1], dtype=int64)"
      ]
     },
     "execution_count": 27,
     "metadata": {},
     "output_type": "execute_result"
    }
   ],
   "source": [
    "loj_model.predict(X) [0:10] #tahminler"
   ]
  },
  {
   "cell_type": "code",
   "execution_count": 28,
   "metadata": {},
   "outputs": [],
   "source": [
    "X_train, X_test, y_train, y_test = train_test_split(X, y, \n",
    "                                                    test_size = 0.30, \n",
    "                                                    random_state = 42)\n"
   ]
  },
  {
   "cell_type": "code",
   "execution_count": 29,
   "metadata": {},
   "outputs": [
    {
     "data": {
      "text/plain": [
       "LogisticRegression(C=1.0, class_weight=None, dual=False, fit_intercept=True,\n",
       "                   intercept_scaling=1, l1_ratio=None, max_iter=100,\n",
       "                   multi_class='warn', n_jobs=None, penalty='l2',\n",
       "                   random_state=None, solver='liblinear', tol=0.0001, verbose=0,\n",
       "                   warm_start=False)"
      ]
     },
     "execution_count": 29,
     "metadata": {},
     "output_type": "execute_result"
    }
   ],
   "source": [
    "loj = LogisticRegression(solver = \"liblinear\")\n",
    "loj_model = loj.fit(X_train,y_train)\n",
    "loj_model"
   ]
  },
  {
   "cell_type": "code",
   "execution_count": 30,
   "metadata": {},
   "outputs": [
    {
     "data": {
      "text/plain": [
       "0.7090909090909091"
      ]
     },
     "execution_count": 30,
     "metadata": {},
     "output_type": "execute_result"
    }
   ],
   "source": [
    "accuracy_score(y_test, loj_model.predict(X_test)) #test hatası"
   ]
  },
  {
   "cell_type": "code",
   "execution_count": 31,
   "metadata": {},
   "outputs": [
    {
     "data": {
      "text/plain": [
       "0.6836580086580086"
      ]
     },
     "execution_count": 31,
     "metadata": {},
     "output_type": "execute_result"
    }
   ],
   "source": [
    "cv_loj_score=cross_val_score(loj_model, X_test, y_test, cv = 10).mean()\n",
    "cv_loj_score"
   ]
  },
  {
   "cell_type": "markdown",
   "metadata": {},
   "source": [
    "## knn"
   ]
  },
  {
   "cell_type": "code",
   "execution_count": 32,
   "metadata": {},
   "outputs": [],
   "source": [
    "knn= KNeighborsClassifier()"
   ]
  },
  {
   "cell_type": "code",
   "execution_count": 33,
   "metadata": {},
   "outputs": [
    {
     "data": {
      "text/plain": [
       "KNeighborsClassifier(algorithm='auto', leaf_size=30, metric='minkowski',\n",
       "                     metric_params=None, n_jobs=None, n_neighbors=5, p=2,\n",
       "                     weights='uniform')"
      ]
     },
     "execution_count": 33,
     "metadata": {},
     "output_type": "execute_result"
    }
   ],
   "source": [
    "knn_model= knn.fit(X_train,y_train)\n",
    "knn_model"
   ]
  },
  {
   "cell_type": "code",
   "execution_count": 34,
   "metadata": {},
   "outputs": [
    {
     "data": {
      "text/plain": [
       "0.7023448773448774"
      ]
     },
     "execution_count": 34,
     "metadata": {},
     "output_type": "execute_result"
    }
   ],
   "source": [
    "cv_knn_score=cross_val_score(knn_model, X_test, y_test, cv = 10).mean()\n",
    "cv_knn_score"
   ]
  },
  {
   "cell_type": "markdown",
   "metadata": {},
   "source": [
    "## svc"
   ]
  },
  {
   "cell_type": "code",
   "execution_count": 35,
   "metadata": {},
   "outputs": [],
   "source": [
    "svm_model= SVC(kernel=\"linear\").fit(X_train,y_train)"
   ]
  },
  {
   "cell_type": "code",
   "execution_count": 36,
   "metadata": {},
   "outputs": [
    {
     "data": {
      "text/plain": [
       "SVC(C=1.0, cache_size=200, class_weight=None, coef0=0.0,\n",
       "    decision_function_shape='ovr', degree=3, gamma='auto_deprecated',\n",
       "    kernel='linear', max_iter=-1, probability=False, random_state=None,\n",
       "    shrinking=True, tol=0.001, verbose=False)"
      ]
     },
     "execution_count": 36,
     "metadata": {},
     "output_type": "execute_result"
    }
   ],
   "source": [
    "svm_model"
   ]
  },
  {
   "cell_type": "code",
   "execution_count": 37,
   "metadata": {},
   "outputs": [],
   "source": [
    "y_pred= svm_model.predict(X_test)"
   ]
  },
  {
   "cell_type": "code",
   "execution_count": 38,
   "metadata": {},
   "outputs": [
    {
     "data": {
      "text/plain": [
       "0.7181818181818181"
      ]
     },
     "execution_count": 38,
     "metadata": {},
     "output_type": "execute_result"
    }
   ],
   "source": [
    "acs_score=accuracy_score(y_test,y_pred)\n",
    "acs_score"
   ]
  },
  {
   "cell_type": "code",
   "execution_count": 39,
   "metadata": {},
   "outputs": [
    {
     "data": {
      "text/plain": [
       "0.660479797979798"
      ]
     },
     "execution_count": 39,
     "metadata": {},
     "output_type": "execute_result"
    }
   ],
   "source": [
    "cv_svc_score=cross_val_score(svm_model, X_test, y_test, cv = 10).mean()\n",
    "cv_svc_score"
   ]
  },
  {
   "cell_type": "markdown",
   "metadata": {},
   "source": [
    "# yapay sinir ağları"
   ]
  },
  {
   "cell_type": "code",
   "execution_count": 40,
   "metadata": {},
   "outputs": [],
   "source": [
    "from sklearn.preprocessing import StandardScaler  "
   ]
  },
  {
   "cell_type": "code",
   "execution_count": 41,
   "metadata": {},
   "outputs": [],
   "source": [
    "scaler= StandardScaler() #yapay sinir ağlarında standartlaştırma gerekiyor"
   ]
  },
  {
   "cell_type": "code",
   "execution_count": 42,
   "metadata": {},
   "outputs": [],
   "source": [
    "scaler.fit(X_train)\n",
    "X_train_scaled= scaler.transform(X_train)\n",
    "X_test_scaled= scaler.transform(X_test)"
   ]
  },
  {
   "cell_type": "code",
   "execution_count": 43,
   "metadata": {},
   "outputs": [
    {
     "data": {
      "text/plain": [
       "array([[ 0.13456431,  1.4084815 ,  2.76275121,  0.46090247, -1.22012874,\n",
       "         1.47027202,  0.13648229,  3.09157507,  0.13008117, -0.89608539,\n",
       "         1.35808264, -0.44057812, -0.46727356,  1.33516405,  1.33438837,\n",
       "        -0.13674605, -0.70577065,  1.18134589, -1.61899591,  1.59517029,\n",
       "         0.28515491],\n",
       "       [ 0.13456431,  1.24784684, -0.31923707,  0.66826808, -0.54647031,\n",
       "         1.32249438,  0.13648229, -0.43456981,  0.5463409 , -0.16524513,\n",
       "         1.30629221,  0.57097344, -0.75903462,  1.38535524,  1.47156013,\n",
       "         0.38401908,  0.1652631 ,  1.28804003,  0.80476405, -0.13008365,\n",
       "         0.06748177],\n",
       "       [ 0.13456431,  0.17694912, -1.00412336, -1.33626615,  0.71102542,\n",
       "         0.38656936,  0.13648229, -0.96349154, -1.3268279 ,  0.90951995,\n",
       "         0.32227404,  0.57097344, -1.34255672, -0.01999805, -0.0373293 ,\n",
       "        -1.12041352,  1.11925245,  0.2210986 ,  0.80476405, -0.37081675,\n",
       "        -0.58553766],\n",
       "       [-0.71601501, -0.62622418, -0.66168021, -0.92153493,  0.30683036,\n",
       "        -0.35231881,  0.13648229, -0.61087705, -0.42493181,  0.43662331,\n",
       "        -0.35100155,  0.57097344, -0.46727356, -0.42152756, -0.17450106,\n",
       "         0.09470512,  0.41412989, -0.31237211,  0.80476405, -0.37081675,\n",
       "         0.57208769],\n",
       "       [ 0.98514362, -0.46558952, -0.66168021,  0.59914621,  1.11522048,\n",
       "        -0.84491093,  0.13648229, -0.61087705,  0.5463409 ,  1.12447297,\n",
       "        -0.66174412,  0.57097344, -0.46727356, -0.42152756, -0.31167283,\n",
       "         0.38401908,  1.20220804, -0.41906625,  0.80476405, -0.37081675,\n",
       "        -1.21876862]])"
      ]
     },
     "execution_count": 43,
     "metadata": {},
     "output_type": "execute_result"
    }
   ],
   "source": [
    "X_train_scaled[0:5]"
   ]
  },
  {
   "cell_type": "code",
   "execution_count": 44,
   "metadata": {},
   "outputs": [],
   "source": [
    "from sklearn.neural_network import MLPClassifier"
   ]
  },
  {
   "cell_type": "code",
   "execution_count": 45,
   "metadata": {},
   "outputs": [],
   "source": [
    "mlpc= MLPClassifier().fit(X_train_scaled,y_train)"
   ]
  },
  {
   "cell_type": "code",
   "execution_count": 46,
   "metadata": {},
   "outputs": [
    {
     "data": {
      "text/plain": [
       "0.7"
      ]
     },
     "execution_count": 46,
     "metadata": {},
     "output_type": "execute_result"
    }
   ],
   "source": [
    "y_pred = mlpc.predict(X_test_scaled)\n",
    "acy_score=accuracy_score(y_test, y_pred)\n",
    "acy_score"
   ]
  },
  {
   "cell_type": "code",
   "execution_count": 47,
   "metadata": {},
   "outputs": [
    {
     "data": {
      "text/plain": [
       "0.6782106782106782"
      ]
     },
     "execution_count": 47,
     "metadata": {},
     "output_type": "execute_result"
    }
   ],
   "source": [
    "cv_ysa_score=cross_val_score(mlpc, X_test, y_test, cv = 10).mean()\n",
    "cv_ysa_score"
   ]
  },
  {
   "cell_type": "markdown",
   "metadata": {},
   "source": [
    "## random forest"
   ]
  },
  {
   "cell_type": "code",
   "execution_count": 48,
   "metadata": {},
   "outputs": [],
   "source": [
    "from sklearn.ensemble import RandomForestClassifier"
   ]
  },
  {
   "cell_type": "code",
   "execution_count": 49,
   "metadata": {},
   "outputs": [],
   "source": [
    "rf_model = RandomForestClassifier().fit(X_train, y_train)"
   ]
  },
  {
   "cell_type": "code",
   "execution_count": 50,
   "metadata": {},
   "outputs": [
    {
     "data": {
      "text/plain": [
       "RandomForestClassifier(bootstrap=True, class_weight=None, criterion='gini',\n",
       "                       max_depth=None, max_features='auto', max_leaf_nodes=None,\n",
       "                       min_impurity_decrease=0.0, min_impurity_split=None,\n",
       "                       min_samples_leaf=1, min_samples_split=2,\n",
       "                       min_weight_fraction_leaf=0.0, n_estimators=10,\n",
       "                       n_jobs=None, oob_score=False, random_state=None,\n",
       "                       verbose=0, warm_start=False)"
      ]
     },
     "execution_count": 50,
     "metadata": {},
     "output_type": "execute_result"
    }
   ],
   "source": [
    "rf_model"
   ]
  },
  {
   "cell_type": "code",
   "execution_count": 51,
   "metadata": {},
   "outputs": [
    {
     "data": {
      "text/plain": [
       "0.7363636363636363"
      ]
     },
     "execution_count": 51,
     "metadata": {},
     "output_type": "execute_result"
    }
   ],
   "source": [
    "y_pred = rf_model.predict(X_test)\n",
    "acr_score=accuracy_score(y_test, y_pred)\n",
    "acr_score"
   ]
  },
  {
   "cell_type": "code",
   "execution_count": 52,
   "metadata": {},
   "outputs": [
    {
     "data": {
      "text/plain": [
       "0.7323953823953824"
      ]
     },
     "execution_count": 52,
     "metadata": {},
     "output_type": "execute_result"
    }
   ],
   "source": [
    "cv_ran_score=cross_val_score(rf_model, X_test, y_test, cv = 10).mean()\n",
    "cv_ran_score"
   ]
  },
  {
   "cell_type": "markdown",
   "metadata": {},
   "source": [
    "## XG boost"
   ]
  },
  {
   "cell_type": "code",
   "execution_count": 53,
   "metadata": {},
   "outputs": [],
   "source": [
    "\n",
    "from xgboost import XGBClassifier"
   ]
  },
  {
   "cell_type": "code",
   "execution_count": 54,
   "metadata": {},
   "outputs": [],
   "source": [
    "xgb_model = XGBClassifier().fit(X_train, y_train)"
   ]
  },
  {
   "cell_type": "code",
   "execution_count": 55,
   "metadata": {},
   "outputs": [
    {
     "data": {
      "text/plain": [
       "XGBClassifier(base_score=0.5, booster='gbtree', colsample_bylevel=1,\n",
       "              colsample_bynode=1, colsample_bytree=1, gamma=0,\n",
       "              learning_rate=0.1, max_delta_step=0, max_depth=3,\n",
       "              min_child_weight=1, missing=None, n_estimators=100, n_jobs=1,\n",
       "              nthread=None, objective='multi:softprob', random_state=0,\n",
       "              reg_alpha=0, reg_lambda=1, scale_pos_weight=1, seed=None,\n",
       "              silent=None, subsample=1, verbosity=1)"
      ]
     },
     "execution_count": 55,
     "metadata": {},
     "output_type": "execute_result"
    }
   ],
   "source": [
    "xgb_model"
   ]
  },
  {
   "cell_type": "code",
   "execution_count": 56,
   "metadata": {},
   "outputs": [
    {
     "data": {
      "text/plain": [
       "0.7363636363636363"
      ]
     },
     "execution_count": 56,
     "metadata": {},
     "output_type": "execute_result"
    }
   ],
   "source": [
    "y_pred = xgb_model.predict(X_test)\n",
    "acx_score=accuracy_score(y_test, y_pred)\n",
    "acx_score"
   ]
  },
  {
   "cell_type": "code",
   "execution_count": 57,
   "metadata": {},
   "outputs": [
    {
     "data": {
      "text/plain": [
       "0.7654942279942281"
      ]
     },
     "execution_count": 57,
     "metadata": {},
     "output_type": "execute_result"
    }
   ],
   "source": [
    "cv_xg_score=cross_val_score(xgb_model, X_test, y_test, cv = 10).mean()\n",
    "cv_xg_score"
   ]
  },
  {
   "cell_type": "markdown",
   "metadata": {},
   "source": [
    "## CAT Boost"
   ]
  },
  {
   "cell_type": "code",
   "execution_count": 58,
   "metadata": {},
   "outputs": [
    {
     "ename": "ModuleNotFoundError",
     "evalue": "No module named 'catboost'",
     "output_type": "error",
     "traceback": [
      "\u001b[1;31m---------------------------------------------------------------------------\u001b[0m",
      "\u001b[1;31mModuleNotFoundError\u001b[0m                       Traceback (most recent call last)",
      "\u001b[1;32m<ipython-input-58-a552d8edcebd>\u001b[0m in \u001b[0;36m<module>\u001b[1;34m\u001b[0m\n\u001b[1;32m----> 1\u001b[1;33m \u001b[1;32mfrom\u001b[0m \u001b[0mcatboost\u001b[0m \u001b[1;32mimport\u001b[0m \u001b[0mCatBoostClassifier\u001b[0m\u001b[1;33m\u001b[0m\u001b[1;33m\u001b[0m\u001b[0m\n\u001b[0m",
      "\u001b[1;31mModuleNotFoundError\u001b[0m: No module named 'catboost'"
     ]
    }
   ],
   "source": [
    "\n",
    "from catboost import CatBoostClassifier"
   ]
  },
  {
   "cell_type": "code",
   "execution_count": null,
   "metadata": {
    "jupyter": {
     "outputs_hidden": true
    }
   },
   "outputs": [],
   "source": [
    "cat_model = CatBoostClassifier().fit(X_train, y_train)"
   ]
  },
  {
   "cell_type": "code",
   "execution_count": null,
   "metadata": {},
   "outputs": [],
   "source": [
    "y_pred = cat_model.predict(X_test)\n",
    "acc_score=accuracy_score(y_test, y_pred)\n",
    "acc_score"
   ]
  },
  {
   "cell_type": "code",
   "execution_count": null,
   "metadata": {
    "jupyter": {
     "outputs_hidden": true
    }
   },
   "outputs": [],
   "source": [
    "cv_cat_score=cross_val_score(cat_model, X_test, y_test, cv = 10).mean()\n",
    "cv_cat_score"
   ]
  },
  {
   "cell_type": "markdown",
   "metadata": {},
   "source": [
    "# Light GBM"
   ]
  },
  {
   "cell_type": "code",
   "execution_count": 59,
   "metadata": {},
   "outputs": [],
   "source": [
    "\n",
    "from lightgbm import LGBMClassifier"
   ]
  },
  {
   "cell_type": "code",
   "execution_count": 60,
   "metadata": {},
   "outputs": [],
   "source": [
    "lgbm_model = LGBMClassifier().fit(X_train, y_train)"
   ]
  },
  {
   "cell_type": "code",
   "execution_count": 61,
   "metadata": {},
   "outputs": [
    {
     "data": {
      "text/plain": [
       "0.7545454545454545"
      ]
     },
     "execution_count": 61,
     "metadata": {},
     "output_type": "execute_result"
    }
   ],
   "source": [
    "y_pred = lgbm_model.predict(X_test)\n",
    "acl_score= accuracy_score(y_test, y_pred)\n",
    "acl_score"
   ]
  },
  {
   "cell_type": "code",
   "execution_count": 62,
   "metadata": {},
   "outputs": [
    {
     "data": {
      "text/plain": [
       "0.7270382395382395"
      ]
     },
     "execution_count": 62,
     "metadata": {},
     "output_type": "execute_result"
    }
   ],
   "source": [
    "cv_light_score=cross_val_score(lgbm_model, X_test, y_test, cv = 10).mean()\n",
    "cv_light_score"
   ]
  },
  {
   "cell_type": "markdown",
   "metadata": {},
   "source": [
    "## GaussianNB"
   ]
  },
  {
   "cell_type": "code",
   "execution_count": 63,
   "metadata": {},
   "outputs": [],
   "source": [
    "from sklearn.naive_bayes import GaussianNB"
   ]
  },
  {
   "cell_type": "code",
   "execution_count": 64,
   "metadata": {},
   "outputs": [
    {
     "data": {
      "text/plain": [
       "GaussianNB(priors=None, var_smoothing=1e-09)"
      ]
     },
     "execution_count": 64,
     "metadata": {},
     "output_type": "execute_result"
    }
   ],
   "source": [
    "nb=GaussianNB()\n",
    "nb_model=nb.fit (X_train,y_train)\n",
    "nb_model"
   ]
  },
  {
   "cell_type": "code",
   "execution_count": 65,
   "metadata": {},
   "outputs": [
    {
     "data": {
      "text/plain": [
       "array([ 4,  2, 10,  6,  3,  9,  3,  8,  6,  1], dtype=int64)"
      ]
     },
     "execution_count": 65,
     "metadata": {},
     "output_type": "execute_result"
    }
   ],
   "source": [
    "nb_model.predict(X_test)[0:10]"
   ]
  },
  {
   "cell_type": "code",
   "execution_count": 66,
   "metadata": {},
   "outputs": [],
   "source": [
    "y_pred=nb_model.predict(X_test)"
   ]
  },
  {
   "cell_type": "code",
   "execution_count": 67,
   "metadata": {},
   "outputs": [
    {
     "data": {
      "text/plain": [
       "0.6446428571428571"
      ]
     },
     "execution_count": 67,
     "metadata": {},
     "output_type": "execute_result"
    }
   ],
   "source": [
    "cv_nb_score=cross_val_score(nb_model, X_test, y_test, cv = 10).mean() \n",
    "cv_nb_score"
   ]
  },
  {
   "cell_type": "code",
   "execution_count": 68,
   "metadata": {},
   "outputs": [
    {
     "data": {
      "text/plain": [
       "Perceptron(alpha=0.0001, class_weight=None, early_stopping=False, eta0=1.0,\n",
       "           fit_intercept=True, max_iter=5, n_iter_no_change=5, n_jobs=None,\n",
       "           penalty=None, random_state=0, shuffle=True, tol=0.001,\n",
       "           validation_fraction=0.1, verbose=0, warm_start=False)"
      ]
     },
     "execution_count": 68,
     "metadata": {},
     "output_type": "execute_result"
    }
   ],
   "source": [
    "from sklearn.linear_model import Perceptron\n",
    "perceptron = Perceptron(max_iter=5)\n",
    "p_model=perceptron.fit(X_train, y_train)\n",
    "p_model"
   ]
  },
  {
   "cell_type": "code",
   "execution_count": 69,
   "metadata": {},
   "outputs": [
    {
     "data": {
      "text/plain": [
       "array([1, 1, 1, 1, 1, 1, 1, 1, 1, 1, 1, 1, 1, 8, 1, 1, 1, 1, 1, 1, 1, 1,\n",
       "       1, 1, 1, 1, 1, 1, 1, 1, 1, 1, 1, 1, 1, 1, 1, 1, 1, 1, 1, 1, 1, 1,\n",
       "       1, 1, 1, 1, 1, 1, 1, 1, 1, 1, 1, 1, 1, 1, 1, 1, 1, 1, 8, 1, 1, 1,\n",
       "       1, 1, 1, 1, 1, 1, 1, 1, 1, 1, 8, 1, 1, 1, 1, 1, 1, 1, 1, 1, 1, 1,\n",
       "       1, 1, 1, 1, 1, 1, 1, 1, 1, 1, 1, 1, 1, 1, 1, 1, 1, 1, 1, 1, 1, 1],\n",
       "      dtype=int64)"
      ]
     },
     "execution_count": 69,
     "metadata": {},
     "output_type": "execute_result"
    }
   ],
   "source": [
    "perceptron.predict(X_test)\n"
   ]
  },
  {
   "cell_type": "code",
   "execution_count": 70,
   "metadata": {},
   "outputs": [],
   "source": [
    "y_pred=perceptron.predict(X_test)"
   ]
  },
  {
   "cell_type": "code",
   "execution_count": 71,
   "metadata": {},
   "outputs": [
    {
     "data": {
      "text/plain": [
       "0.6523088023088023"
      ]
     },
     "execution_count": 71,
     "metadata": {},
     "output_type": "execute_result"
    }
   ],
   "source": [
    "cv_p_score=cross_val_score(perceptron, X_test, y_test, cv = 10).mean() \n",
    "cv_p_score"
   ]
  },
  {
   "cell_type": "markdown",
   "metadata": {},
   "source": [
    "## decision tree"
   ]
  },
  {
   "cell_type": "code",
   "execution_count": 72,
   "metadata": {},
   "outputs": [
    {
     "data": {
      "text/plain": [
       "0.6954545454545455"
      ]
     },
     "execution_count": 72,
     "metadata": {},
     "output_type": "execute_result"
    }
   ],
   "source": [
    "decision_tree = DecisionTreeClassifier() \n",
    "decision_tree.fit(X_train, y_train) \n",
    "\n",
    "y_pred = decision_tree.predict(X_test)  \n",
    "\n",
    "cv_dc_score=cross_val_score(decision_tree, X_test, y_test, cv = 10).mean() \n",
    "cv_dc_score"
   ]
  },
  {
   "cell_type": "markdown",
   "metadata": {},
   "source": [
    "## modellerin karşılaştırması"
   ]
  },
  {
   "cell_type": "code",
   "execution_count": 73,
   "metadata": {},
   "outputs": [
    {
     "ename": "NameError",
     "evalue": "name 'cv_cat_score' is not defined",
     "output_type": "error",
     "traceback": [
      "\u001b[1;31m---------------------------------------------------------------------------\u001b[0m",
      "\u001b[1;31mNameError\u001b[0m                                 Traceback (most recent call last)",
      "\u001b[1;32m<ipython-input-73-af3b2826ea8e>\u001b[0m in \u001b[0;36m<module>\u001b[1;34m\u001b[0m\n\u001b[0;32m      4\u001b[0m     'Score': [cv_svc_score, cv_ysa_score, cv_knn_score, \n\u001b[0;32m      5\u001b[0m               \u001b[0mcv_loj_score\u001b[0m\u001b[1;33m,\u001b[0m \u001b[0mcv_ran_score\u001b[0m\u001b[1;33m,\u001b[0m \u001b[0mcv_dc_score\u001b[0m\u001b[1;33m,\u001b[0m\u001b[1;33m\u001b[0m\u001b[1;33m\u001b[0m\u001b[0m\n\u001b[1;32m----> 6\u001b[1;33m               cv_light_score, cv_nb_score,cv_cat_score,cv_xg_score]})\n\u001b[0m\u001b[0;32m      7\u001b[0m \u001b[0mresult_df\u001b[0m \u001b[1;33m=\u001b[0m \u001b[0mresults\u001b[0m\u001b[1;33m.\u001b[0m\u001b[0msort_values\u001b[0m\u001b[1;33m(\u001b[0m\u001b[0mby\u001b[0m\u001b[1;33m=\u001b[0m\u001b[1;34m'Score'\u001b[0m\u001b[1;33m,\u001b[0m \u001b[0mascending\u001b[0m\u001b[1;33m=\u001b[0m\u001b[1;32mFalse\u001b[0m\u001b[1;33m)\u001b[0m\u001b[1;33m\u001b[0m\u001b[1;33m\u001b[0m\u001b[0m\n\u001b[0;32m      8\u001b[0m \u001b[0mresult_df\u001b[0m \u001b[1;33m=\u001b[0m \u001b[0mresult_df\u001b[0m\u001b[1;33m.\u001b[0m\u001b[0mset_index\u001b[0m\u001b[1;33m(\u001b[0m\u001b[1;34m'Score'\u001b[0m\u001b[1;33m)\u001b[0m\u001b[1;33m\u001b[0m\u001b[1;33m\u001b[0m\u001b[0m\n",
      "\u001b[1;31mNameError\u001b[0m: name 'cv_cat_score' is not defined"
     ]
    }
   ],
   "source": [
    "results = pd.DataFrame({\n",
    "    'Model': ['SVC', \"YSA\", 'KNN', 'Logistic Regression', \n",
    "              'Random Forest', 'Decision Tree', \"Light GBM\", \"GNB\", \"CAT\", \"XGB\"],\n",
    "    'Score': [cv_svc_score, cv_ysa_score, cv_knn_score, \n",
    "              cv_loj_score, cv_ran_score, cv_dc_score, \n",
    "              cv_light_score, cv_nb_score,cv_cat_score,cv_xg_score]})\n",
    "result_df = results.sort_values(by='Score', ascending=False)\n",
    "result_df = result_df.set_index('Score')\n",
    "result_df.head(10)"
   ]
  },
  {
   "cell_type": "markdown",
   "metadata": {},
   "source": [
    "## değişken önem düzeyi"
   ]
  },
  {
   "cell_type": "code",
   "execution_count": 74,
   "metadata": {},
   "outputs": [
    {
     "data": {
      "text/html": [
       "<div>\n",
       "<style scoped>\n",
       "    .dataframe tbody tr th:only-of-type {\n",
       "        vertical-align: middle;\n",
       "    }\n",
       "\n",
       "    .dataframe tbody tr th {\n",
       "        vertical-align: top;\n",
       "    }\n",
       "\n",
       "    .dataframe thead th {\n",
       "        text-align: right;\n",
       "    }\n",
       "</style>\n",
       "<table border=\"1\" class=\"dataframe\">\n",
       "  <thead>\n",
       "    <tr style=\"text-align: right;\">\n",
       "      <th></th>\n",
       "      <th>importance</th>\n",
       "    </tr>\n",
       "    <tr>\n",
       "      <th>feature</th>\n",
       "      <th></th>\n",
       "    </tr>\n",
       "  </thead>\n",
       "  <tbody>\n",
       "    <tr>\n",
       "      <td>max_temperaturef</td>\n",
       "      <td>0.117</td>\n",
       "    </tr>\n",
       "    <tr>\n",
       "      <td>max_dew_pointf</td>\n",
       "      <td>0.117</td>\n",
       "    </tr>\n",
       "    <tr>\n",
       "      <td>min_visibilitymiles</td>\n",
       "      <td>0.094</td>\n",
       "    </tr>\n",
       "    <tr>\n",
       "      <td>mean_temperaturef</td>\n",
       "      <td>0.078</td>\n",
       "    </tr>\n",
       "    <tr>\n",
       "      <td>min_temperaturef</td>\n",
       "      <td>0.066</td>\n",
       "    </tr>\n",
       "    <tr>\n",
       "      <td>precipitationin</td>\n",
       "      <td>0.055</td>\n",
       "    </tr>\n",
       "    <tr>\n",
       "      <td>max_wind_speedmph</td>\n",
       "      <td>0.044</td>\n",
       "    </tr>\n",
       "    <tr>\n",
       "      <td>mean_humidity</td>\n",
       "      <td>0.044</td>\n",
       "    </tr>\n",
       "    <tr>\n",
       "      <td>max_sea_level_pressurein</td>\n",
       "      <td>0.040</td>\n",
       "    </tr>\n",
       "    <tr>\n",
       "      <td>min_dewpointf</td>\n",
       "      <td>0.038</td>\n",
       "    </tr>\n",
       "    <tr>\n",
       "      <td>max_gust_speedmph</td>\n",
       "      <td>0.036</td>\n",
       "    </tr>\n",
       "    <tr>\n",
       "      <td>max_humidity</td>\n",
       "      <td>0.036</td>\n",
       "    </tr>\n",
       "    <tr>\n",
       "      <td>winddirdegrees</td>\n",
       "      <td>0.035</td>\n",
       "    </tr>\n",
       "    <tr>\n",
       "      <td>mean_sea_level_pressurein</td>\n",
       "      <td>0.034</td>\n",
       "    </tr>\n",
       "    <tr>\n",
       "      <td>min_sea_level_pressurein</td>\n",
       "      <td>0.032</td>\n",
       "    </tr>\n",
       "    <tr>\n",
       "      <td>meandew_pointf</td>\n",
       "      <td>0.030</td>\n",
       "    </tr>\n",
       "    <tr>\n",
       "      <td>cloudcover</td>\n",
       "      <td>0.029</td>\n",
       "    </tr>\n",
       "    <tr>\n",
       "      <td>min_humidity</td>\n",
       "      <td>0.028</td>\n",
       "    </tr>\n",
       "    <tr>\n",
       "      <td>mean_visibilitymiles</td>\n",
       "      <td>0.028</td>\n",
       "    </tr>\n",
       "    <tr>\n",
       "      <td>mean_wind_speedmph</td>\n",
       "      <td>0.018</td>\n",
       "    </tr>\n",
       "    <tr>\n",
       "      <td>max_visibilitymiles</td>\n",
       "      <td>0.000</td>\n",
       "    </tr>\n",
       "  </tbody>\n",
       "</table>\n",
       "</div>"
      ],
      "text/plain": [
       "                           importance\n",
       "feature                              \n",
       "max_temperaturef                0.117\n",
       "max_dew_pointf                  0.117\n",
       "min_visibilitymiles             0.094\n",
       "mean_temperaturef               0.078\n",
       "min_temperaturef                0.066\n",
       "precipitationin                 0.055\n",
       "max_wind_speedmph               0.044\n",
       "mean_humidity                   0.044\n",
       "max_sea_level_pressurein        0.040\n",
       "min_dewpointf                   0.038\n",
       "max_gust_speedmph               0.036\n",
       "max_humidity                    0.036\n",
       "winddirdegrees                  0.035\n",
       "mean_sea_level_pressurein       0.034\n",
       "min_sea_level_pressurein        0.032\n",
       "meandew_pointf                  0.030\n",
       "cloudcover                      0.029\n",
       "min_humidity                    0.028\n",
       "mean_visibilitymiles            0.028\n",
       "mean_wind_speedmph              0.018\n",
       "max_visibilitymiles             0.000"
      ]
     },
     "execution_count": 74,
     "metadata": {},
     "output_type": "execute_result"
    }
   ],
   "source": [
    "importances = pd.DataFrame({'feature':X_train.columns,'importance':np.round(xgb_model.feature_importances_,3)})\n",
    "importances = importances.sort_values('importance',ascending=False).set_index('feature')\n",
    "importances.head(25)"
   ]
  },
  {
   "cell_type": "code",
   "execution_count": 75,
   "metadata": {},
   "outputs": [
    {
     "data": {
      "image/png": "[encoded data removed]",
      "text/plain": [
       "<Figure size 432x288 with 1 Axes>"
      ]
     },
     "metadata": {
      "needs_background": "light"
     },
     "output_type": "display_data"
    }
   ],
   "source": [
    "importances.plot.bar();"
   ]
  },
  {
   "cell_type": "code",
   "execution_count": 76,
   "metadata": {},
   "outputs": [],
   "source": [
    "df  = df.drop(\"max_visibilitymiles\", axis=1)\n",
    "df  = df.drop(\"mean_wind_speedmph\", axis=1)\n"
   ]
  },
  {
   "cell_type": "markdown",
   "metadata": {},
   "source": [
    "## XG boost tekrar"
   ]
  },
  {
   "cell_type": "code",
   "execution_count": 77,
   "metadata": {},
   "outputs": [],
   "source": [
    "\n",
    "from xgboost import XGBClassifier"
   ]
  },
  {
   "cell_type": "code",
   "execution_count": 78,
   "metadata": {},
   "outputs": [],
   "source": [
    "xgb_model = XGBClassifier().fit(X_train, y_train)"
   ]
  },
  {
   "cell_type": "code",
   "execution_count": 79,
   "metadata": {},
   "outputs": [
    {
     "data": {
      "text/plain": [
       "XGBClassifier(base_score=0.5, booster='gbtree', colsample_bylevel=1,\n",
       "              colsample_bynode=1, colsample_bytree=1, gamma=0,\n",
       "              learning_rate=0.1, max_delta_step=0, max_depth=3,\n",
       "              min_child_weight=1, missing=None, n_estimators=100, n_jobs=1,\n",
       "              nthread=None, objective='multi:softprob', random_state=0,\n",
       "              reg_alpha=0, reg_lambda=1, scale_pos_weight=1, seed=None,\n",
       "              silent=None, subsample=1, verbosity=1)"
      ]
     },
     "execution_count": 79,
     "metadata": {},
     "output_type": "execute_result"
    }
   ],
   "source": [
    "xgb_model"
   ]
  },
  {
   "cell_type": "code",
   "execution_count": 80,
   "metadata": {},
   "outputs": [
    {
     "data": {
      "text/plain": [
       "0.7363636363636363"
      ]
     },
     "execution_count": 80,
     "metadata": {},
     "output_type": "execute_result"
    }
   ],
   "source": [
    "y_pred = xgb_model.predict(X_test)\n",
    "acx_score=accuracy_score(y_test, y_pred)\n",
    "acx_score"
   ]
  },
  {
   "cell_type": "code",
   "execution_count": 81,
   "metadata": {},
   "outputs": [
    {
     "data": {
      "text/plain": [
       "0.7654942279942281"
      ]
     },
     "execution_count": 81,
     "metadata": {},
     "output_type": "execute_result"
    }
   ],
   "source": [
    "cv_xg_score=cross_val_score(xgb_model, X_test, y_test, cv = 10).mean()\n",
    "cv_xg_score"
   ]
  },
  {
   "cell_type": "markdown",
   "metadata": {},
   "source": [
    "## hiperparametre ayarlama"
   ]
  },
  {
   "cell_type": "code",
   "execution_count": 82,
   "metadata": {},
   "outputs": [
    {
     "data": {
      "text/plain": [
       "XGBClassifier(base_score=0.5, booster='gbtree', colsample_bylevel=1,\n",
       "              colsample_bynode=1, colsample_bytree=1, gamma=0,\n",
       "              learning_rate=0.1, max_delta_step=0, max_depth=3,\n",
       "              min_child_weight=1, missing=None, n_estimators=100, n_jobs=1,\n",
       "              nthread=None, objective='multi:softprob', random_state=0,\n",
       "              reg_alpha=0, reg_lambda=1, scale_pos_weight=1, seed=None,\n",
       "              silent=None, subsample=1, verbosity=1)"
      ]
     },
     "execution_count": 82,
     "metadata": {},
     "output_type": "execute_result"
    }
   ],
   "source": [
    "xgb_model"
   ]
  },
  {
   "cell_type": "code",
   "execution_count": 83,
   "metadata": {},
   "outputs": [],
   "source": [
    "xgb_params = {'n_estimators': [500, 1000],\n",
    "        'subsample': [0.6, 1.0],\n",
    "        'max_depth': [3,6],\n",
    "        'learning_rate': [0.1,0.01,0.05],\n",
    "        \"min_samples_split\": [2,10]}"
   ]
  },
  {
   "cell_type": "code",
   "execution_count": 86,
   "metadata": {},
   "outputs": [],
   "source": [
    "xgb_model = XGBClassifier()\n",
    "\n",
    "xgb_cv_model = GridSearchCV(xgb_model, \n",
    "                           xgb_params, \n",
    "                           cv = 2, \n",
    "                           n_jobs = -1, \n",
    "                           verbose = 2) "
   ]
  },
  {
   "cell_type": "code",
   "execution_count": 87,
   "metadata": {},
   "outputs": [
    {
     "name": "stdout",
     "output_type": "stream",
     "text": [
      "Fitting 2 folds for each of 48 candidates, totalling 96 fits\n"
     ]
    },
    {
     "name": "stderr",
     "output_type": "stream",
     "text": [
      "[Parallel(n_jobs=-1)]: Using backend LokyBackend with 8 concurrent workers.\n",
      "[Parallel(n_jobs=-1)]: Done  25 tasks      | elapsed:   12.7s\n",
      "[Parallel(n_jobs=-1)]: Done  96 out of  96 | elapsed:   45.0s finished\n"
     ]
    },
    {
     "data": {
      "text/plain": [
       "GridSearchCV(cv=2, error_score='raise-deprecating',\n",
       "             estimator=XGBClassifier(base_score=0.5, booster='gbtree',\n",
       "                                     colsample_bylevel=1, colsample_bynode=1,\n",
       "                                     colsample_bytree=1, gamma=0,\n",
       "                                     learning_rate=0.1, max_delta_step=0,\n",
       "                                     max_depth=3, min_child_weight=1,\n",
       "                                     missing=None, n_estimators=100, n_jobs=1,\n",
       "                                     nthread=None, objective='binary:logistic',\n",
       "                                     random_state=0, reg_alpha=0, reg_lambda=1,\n",
       "                                     scale_pos_weight=1, seed=None, silent=None,\n",
       "                                     subsample=1, verbosity=1),\n",
       "             iid='warn', n_jobs=-1,\n",
       "             param_grid={'learning_rate': [0.1, 0.01, 0.05],\n",
       "                         'max_depth': [3, 6], 'min_samples_split': [2, 10],\n",
       "                         'n_estimators': [500, 1000], 'subsample': [0.6, 1.0]},\n",
       "             pre_dispatch='2*n_jobs', refit=True, return_train_score=False,\n",
       "             scoring=None, verbose=2)"
      ]
     },
     "execution_count": 87,
     "metadata": {},
     "output_type": "execute_result"
    }
   ],
   "source": [
    "xgb_cv_model.fit(X_train, y_train)"
   ]
  },
  {
   "cell_type": "code",
   "execution_count": 88,
   "metadata": {},
   "outputs": [
    {
     "data": {
      "text/plain": [
       "{'learning_rate': 0.01,\n",
       " 'max_depth': 3,\n",
       " 'min_samples_split': 2,\n",
       " 'n_estimators': 500,\n",
       " 'subsample': 0.6}"
      ]
     },
     "execution_count": 88,
     "metadata": {},
     "output_type": "execute_result"
    }
   ],
   "source": [
    "xgb_cv_model.best_params_"
   ]
  },
  {
   "cell_type": "code",
   "execution_count": 89,
   "metadata": {},
   "outputs": [],
   "source": [
    "xgb = XGBClassifier(learning_rate = 0.01, \n",
    "                    max_depth = 3,\n",
    "                    min_samples_split = 2,\n",
    "                    n_estimators = 500,\n",
    "                    subsample = 0.6)"
   ]
  },
  {
   "cell_type": "code",
   "execution_count": 90,
   "metadata": {},
   "outputs": [],
   "source": [
    "xgb_tuned =  xgb.fit(X_train,y_train)"
   ]
  },
  {
   "cell_type": "code",
   "execution_count": 91,
   "metadata": {},
   "outputs": [
    {
     "data": {
      "text/plain": [
       "0.7272727272727273"
      ]
     },
     "execution_count": 91,
     "metadata": {},
     "output_type": "execute_result"
    }
   ],
   "source": [
    "y_pred = xgb_tuned.predict(X_test)\n",
    "accuracy_score(y_test, y_pred)"
   ]
  },
  {
   "cell_type": "code",
   "execution_count": 92,
   "metadata": {},
   "outputs": [],
   "source": [
    "import pickle\n",
    "from sklearn.externals import joblib"
   ]
  },
  {
   "cell_type": "code",
   "execution_count": 114,
   "metadata": {},
   "outputs": [],
   "source": [
    "if __name__ == \"__main__\":\n",
    "    joblib.dump(xgb_model, 'weather_xgb.pkl') "
   ]
  },
  {
   "cell_type": "code",
   "execution_count": 110,
   "metadata": {},
   "outputs": [],
   "source": [
    "loaded_model = joblib.load('weather_xgb.pkl')  "
   ]
  },
  {
   "cell_type": "code",
   "execution_count": 111,
   "metadata": {},
   "outputs": [
    {
     "name": "stdout",
     "output_type": "stream",
     "text": [
      "0.7272727272727273\n"
     ]
    }
   ],
   "source": [
    "loaded_model = joblib.load(\"weather_xgb.pkl\")\n",
    "result = loaded_model.score(X_test, y_test)\n",
    "print(result)"
   ]
  },
  {
   "cell_type": "code",
   "execution_count": 123,
   "metadata": {},
   "outputs": [],
   "source": [
    "pickle.dump(lgbm_model, open(\"finalized_model.sav\", 'wb'))"
   ]
  },
  {
   "cell_type": "code",
   "execution_count": 124,
   "metadata": {},
   "outputs": [
    {
     "name": "stdout",
     "output_type": "stream",
     "text": [
      "0.7545454545454545\n"
     ]
    }
   ],
   "source": [
    "loaded_model = pickle.load(open(\"finalized_model.sav\", 'rb'))\n",
    "result = loaded_model.score(X_test, y_test)\n",
    "print(result)"
   ]
  },
  {
   "cell_type": "code",
   "execution_count": null,
   "metadata": {},
   "outputs": [],
   "source": []
  }
 ],
 "metadata": {
  "kernelspec": {
   "display_name": "Python 3",
   "language": "python",
   "name": "python3"
  },
  "language_info": {
   "codemirror_mode": {
    "name": "ipython",
    "version": 3
   },
   "file_extension": ".py",
   "mimetype": "text/x-python",
   "name": "python",
   "nbconvert_exporter": "python",
   "pygments_lexer": "ipython3",
   "version": "3.7.4"
  }
 },
 "nbformat": 4,
 "nbformat_minor": 4
}
